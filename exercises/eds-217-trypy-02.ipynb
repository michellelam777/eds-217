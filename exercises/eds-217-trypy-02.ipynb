{
 "cells": [
  {
   "cell_type": "markdown",
   "metadata": {},
   "source": [
    "## TryPy 2 - Data Types, Indexing, Imports and Plotting\n",
    "### Part 1 - Checking data types\n",
    "Vectors, lists & data frames\n"
   ]
  },
  {
   "cell_type": "code",
   "execution_count": 15,
   "metadata": {},
   "outputs": [
    {
     "name": "stdout",
     "output_type": "stream",
     "text": [
      "[2, 5, 9, 10, 8, 12, 1, 0]\n"
     ]
    }
   ],
   "source": [
    "# Create a list called vec_1\n",
    "vec_1 = [2, 5, 9, 10, 8, 12, 1, 0]\n",
    "\n",
    "# what is the type of the list?\n",
    "type(vec_1)\n",
    "\n",
    "#access the 3rd element and store as vec_1_e3\n",
    "vec_1_e3 = vec_1[2]\n",
    "\n",
    "#access the 1st element and store as vec_1_e1\n",
    "vec_1_e1 = vec_1[0]\n",
    "\n",
    "#access the 5th through 7th elements and store as vec_1_e5to7\n",
    "vec_1_e5to7 = vec_1[4:7]\n",
    "\n",
    "#reassign each element in vec_1 as a string and store the new list as vec_1_char\n",
    "vec_1_char = str(vec_1)\n",
    "type(vec_1_char)\n",
    "print(vec_1_char)\n",
    "\n"
   ]
  },
  {
   "cell_type": "code",
   "execution_count": 31,
   "metadata": {},
   "outputs": [
    {
     "data": {
      "text/plain": [
       "'San Diego'"
      ]
     },
     "execution_count": 31,
     "metadata": {},
     "output_type": "execute_result"
    }
   ],
   "source": [
    "# Create a dictionary called dict_1\n",
    "dict_1 = {\n",
    "    'town': ['Santa Barbara','San Diego'],\n",
    "    'location': ['Rincon'],\n",
    "    'swell': ['south']\n",
    "}\n",
    "\n",
    "# check the type of dictionary values and the length\n",
    "type(dict_1)\n",
    "len(dict_1)\n",
    "\n",
    "# access location value and store as dict_1_v2\n",
    "dict_1_v2 = dict_1['location']\n",
    "dict_1_v2\n",
    "dict_1['town'][1]"
   ]
  },
  {
   "cell_type": "code",
   "execution_count": 38,
   "metadata": {},
   "outputs": [],
   "source": [
    "# Creaet data frame in pandas\n",
    "import pandas as pd\n",
    "df_1 = pd.DataFrame({'region':['A','B','A','D'],\n",
    "                    'species':['otter','great white','sea lion','gray whale'],\n",
    "                    'count':[12,2,36,6]\n",
    "})\n",
    "\n",
    "df_1\n",
    "\n",
    "#find the max vaue of count column, store as max_count\n",
    "max_count = max(df_1['count'])\n"
   ]
  },
  {
   "cell_type": "code",
   "execution_count": null,
   "metadata": {},
   "outputs": [],
   "source": []
  }
 ],
 "metadata": {
  "kernelspec": {
   "display_name": "Python 3.10.5 ('eds-217')",
   "language": "python",
   "name": "python3"
  },
  "language_info": {
   "codemirror_mode": {
    "name": "ipython",
    "version": 3
   },
   "file_extension": ".py",
   "mimetype": "text/x-python",
   "name": "python",
   "nbconvert_exporter": "python",
   "pygments_lexer": "ipython3",
   "version": "3.10.5"
  },
  "orig_nbformat": 4,
  "vscode": {
   "interpreter": {
    "hash": "61c9d78bad92851a86cb88281d9017ac04daac7f608160631e3d306152a59962"
   }
  }
 },
 "nbformat": 4,
 "nbformat_minor": 2
}
