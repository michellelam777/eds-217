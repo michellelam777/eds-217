{
 "cells": [
  {
   "cell_type": "markdown",
   "metadata": {},
   "source": [
    "## TryPy 1  - Exploring St. Louis Blood Toxicity Data\n",
    "\n",
    "### Part 1 - Get the Data\n"
   ]
  },
  {
   "cell_type": "code",
   "execution_count": 1,
   "metadata": {},
   "outputs": [],
   "source": [
    "import numpy as np\n",
    "import pandas as pd"
   ]
  },
  {
   "cell_type": "code",
   "execution_count": 2,
   "metadata": {},
   "outputs": [],
   "source": [
    "\"\"\"\n",
    "Create a new variable containing \n",
    "the link to the .csv file on \n",
    "the EDS_221 github repository.\n",
    "\"\"\"\n",
    "url = 'https://raw.githubusercontent.com/'\\\n",
    "      'allisonhorst/EDS_221_programming-essentials/'\\\n",
    "      'main/activities/stl_blood_lead.csv'\n",
    "\n",
    "\"\"\" \n",
    "pandas can read a csv file into a \n",
    "dataframe directly from a url:\n",
    "\"\"\"\n",
    "\n",
    "stl_lead = pd.read_csv(url)"
   ]
  },
  {
   "cell_type": "markdown",
   "metadata": {},
   "source": [
    "### Part 2 - Explore the data\n",
    "Create a new notebook, or this notebook:\n",
    "\n",
    "- Create a code cell that imports the numpy and pandas packages and run the cell to import the packages.\n",
    "- Use the code above to read the url for stl_blood_lead.csv into a pandas DataFrame called stl_lead\n",
    "- Do some basic exploration of the dataset using the DataFrame info and describe commands.\n",
    "- In a new code chunk, from stl_lead create a new column called prop_white that contains the percent of each census tract identifying as white (variable white in the dataset divided by variable totalPop, times 100).\n",
    "\n",
    "Hint: df['new_col'] = df['col_a'] / df['col_b'] will create a new column new_col that contains the value of col_a / col_b"
   ]
  },
  {
   "cell_type": "code",
   "execution_count": 3,
   "metadata": {},
   "outputs": [
    {
     "name": "stdout",
     "output_type": "stream",
     "text": [
      "<class 'pandas.core.frame.DataFrame'>\n",
      "RangeIndex: 106 entries, 0 to 105\n",
      "Data columns (total 15 columns):\n",
      " #   Column          Non-Null Count  Dtype  \n",
      "---  ------          --------------  -----  \n",
      " 0   geoID           106 non-null    int64  \n",
      " 1   tractCE         106 non-null    int64  \n",
      " 2   nameLSAD        106 non-null    object \n",
      " 3   countTested     106 non-null    int64  \n",
      " 4   pctElevated     106 non-null    float64\n",
      " 5   totalPop        106 non-null    int64  \n",
      " 6   totalPop_MOE    106 non-null    int64  \n",
      " 7   white           106 non-null    int64  \n",
      " 8   white_MOE       106 non-null    int64  \n",
      " 9   black           106 non-null    int64  \n",
      " 10  black_MOE       106 non-null    int64  \n",
      " 11  povertyTot      106 non-null    int64  \n",
      " 12  povertyTot_MOE  106 non-null    int64  \n",
      " 13  povertyU18      106 non-null    int64  \n",
      " 14  povertyU18_MOE  106 non-null    int64  \n",
      "dtypes: float64(1), int64(13), object(1)\n",
      "memory usage: 12.5+ KB\n"
     ]
    },
    {
     "data": {
      "text/html": [
       "<div>\n",
       "<style scoped>\n",
       "    .dataframe tbody tr th:only-of-type {\n",
       "        vertical-align: middle;\n",
       "    }\n",
       "\n",
       "    .dataframe tbody tr th {\n",
       "        vertical-align: top;\n",
       "    }\n",
       "\n",
       "    .dataframe thead th {\n",
       "        text-align: right;\n",
       "    }\n",
       "</style>\n",
       "<table border=\"1\" class=\"dataframe\">\n",
       "  <thead>\n",
       "    <tr style=\"text-align: right;\">\n",
       "      <th></th>\n",
       "      <th>geoID</th>\n",
       "      <th>tractCE</th>\n",
       "      <th>countTested</th>\n",
       "      <th>pctElevated</th>\n",
       "      <th>totalPop</th>\n",
       "      <th>totalPop_MOE</th>\n",
       "      <th>white</th>\n",
       "      <th>white_MOE</th>\n",
       "      <th>black</th>\n",
       "      <th>black_MOE</th>\n",
       "      <th>povertyTot</th>\n",
       "      <th>povertyTot_MOE</th>\n",
       "      <th>povertyU18</th>\n",
       "      <th>povertyU18_MOE</th>\n",
       "    </tr>\n",
       "  </thead>\n",
       "  <tbody>\n",
       "    <tr>\n",
       "      <th>count</th>\n",
       "      <td>1.060000e+02</td>\n",
       "      <td>106.000000</td>\n",
       "      <td>106.000000</td>\n",
       "      <td>106.000000</td>\n",
       "      <td>106.000000</td>\n",
       "      <td>106.000000</td>\n",
       "      <td>106.000000</td>\n",
       "      <td>106.000000</td>\n",
       "      <td>106.000000</td>\n",
       "      <td>106.000000</td>\n",
       "      <td>106.000000</td>\n",
       "      <td>106.000000</td>\n",
       "      <td>106.000000</td>\n",
       "      <td>106.000000</td>\n",
       "    </tr>\n",
       "    <tr>\n",
       "      <th>mean</th>\n",
       "      <td>2.951011e+10</td>\n",
       "      <td>113385.915094</td>\n",
       "      <td>737.367925</td>\n",
       "      <td>10.163679</td>\n",
       "      <td>2998.584906</td>\n",
       "      <td>353.349057</td>\n",
       "      <td>1371.716981</td>\n",
       "      <td>201.377358</td>\n",
       "      <td>1429.867925</td>\n",
       "      <td>288.377358</td>\n",
       "      <td>786.943396</td>\n",
       "      <td>270.500000</td>\n",
       "      <td>249.754717</td>\n",
       "      <td>140.084906</td>\n",
       "    </tr>\n",
       "    <tr>\n",
       "      <th>std</th>\n",
       "      <td>8.132848e+03</td>\n",
       "      <td>8132.847911</td>\n",
       "      <td>414.180391</td>\n",
       "      <td>6.006316</td>\n",
       "      <td>1263.137227</td>\n",
       "      <td>140.297374</td>\n",
       "      <td>1293.399800</td>\n",
       "      <td>145.212649</td>\n",
       "      <td>1038.309754</td>\n",
       "      <td>148.843059</td>\n",
       "      <td>528.611313</td>\n",
       "      <td>156.111819</td>\n",
       "      <td>262.596152</td>\n",
       "      <td>107.482811</td>\n",
       "    </tr>\n",
       "    <tr>\n",
       "      <th>min</th>\n",
       "      <td>2.951010e+10</td>\n",
       "      <td>101100.000000</td>\n",
       "      <td>23.000000</td>\n",
       "      <td>0.000000</td>\n",
       "      <td>620.000000</td>\n",
       "      <td>94.000000</td>\n",
       "      <td>1.000000</td>\n",
       "      <td>4.000000</td>\n",
       "      <td>35.000000</td>\n",
       "      <td>38.000000</td>\n",
       "      <td>158.000000</td>\n",
       "      <td>65.000000</td>\n",
       "      <td>0.000000</td>\n",
       "      <td>3.000000</td>\n",
       "    </tr>\n",
       "    <tr>\n",
       "      <th>25%</th>\n",
       "      <td>2.951011e+10</td>\n",
       "      <td>106425.000000</td>\n",
       "      <td>411.000000</td>\n",
       "      <td>4.587500</td>\n",
       "      <td>2025.000000</td>\n",
       "      <td>249.500000</td>\n",
       "      <td>88.500000</td>\n",
       "      <td>60.500000</td>\n",
       "      <td>633.250000</td>\n",
       "      <td>183.250000</td>\n",
       "      <td>408.500000</td>\n",
       "      <td>160.250000</td>\n",
       "      <td>66.500000</td>\n",
       "      <td>61.250000</td>\n",
       "    </tr>\n",
       "    <tr>\n",
       "      <th>50%</th>\n",
       "      <td>2.951011e+10</td>\n",
       "      <td>112350.000000</td>\n",
       "      <td>694.000000</td>\n",
       "      <td>9.480000</td>\n",
       "      <td>2911.500000</td>\n",
       "      <td>333.500000</td>\n",
       "      <td>1290.000000</td>\n",
       "      <td>212.500000</td>\n",
       "      <td>1334.500000</td>\n",
       "      <td>269.000000</td>\n",
       "      <td>651.500000</td>\n",
       "      <td>241.500000</td>\n",
       "      <td>173.500000</td>\n",
       "      <td>120.500000</td>\n",
       "    </tr>\n",
       "    <tr>\n",
       "      <th>75%</th>\n",
       "      <td>2.951012e+10</td>\n",
       "      <td>119101.750000</td>\n",
       "      <td>923.250000</td>\n",
       "      <td>14.380000</td>\n",
       "      <td>3784.500000</td>\n",
       "      <td>439.500000</td>\n",
       "      <td>2168.250000</td>\n",
       "      <td>299.750000</td>\n",
       "      <td>2029.000000</td>\n",
       "      <td>379.250000</td>\n",
       "      <td>955.750000</td>\n",
       "      <td>337.500000</td>\n",
       "      <td>341.750000</td>\n",
       "      <td>194.750000</td>\n",
       "    </tr>\n",
       "    <tr>\n",
       "      <th>max</th>\n",
       "      <td>2.951013e+10</td>\n",
       "      <td>127600.000000</td>\n",
       "      <td>2116.000000</td>\n",
       "      <td>23.280000</td>\n",
       "      <td>7069.000000</td>\n",
       "      <td>832.000000</td>\n",
       "      <td>6128.000000</td>\n",
       "      <td>751.000000</td>\n",
       "      <td>4572.000000</td>\n",
       "      <td>760.000000</td>\n",
       "      <td>2801.000000</td>\n",
       "      <td>1049.000000</td>\n",
       "      <td>1320.000000</td>\n",
       "      <td>595.000000</td>\n",
       "    </tr>\n",
       "  </tbody>\n",
       "</table>\n",
       "</div>"
      ],
      "text/plain": [
       "              geoID        tractCE  countTested  pctElevated     totalPop  \\\n",
       "count  1.060000e+02     106.000000   106.000000   106.000000   106.000000   \n",
       "mean   2.951011e+10  113385.915094   737.367925    10.163679  2998.584906   \n",
       "std    8.132848e+03    8132.847911   414.180391     6.006316  1263.137227   \n",
       "min    2.951010e+10  101100.000000    23.000000     0.000000   620.000000   \n",
       "25%    2.951011e+10  106425.000000   411.000000     4.587500  2025.000000   \n",
       "50%    2.951011e+10  112350.000000   694.000000     9.480000  2911.500000   \n",
       "75%    2.951012e+10  119101.750000   923.250000    14.380000  3784.500000   \n",
       "max    2.951013e+10  127600.000000  2116.000000    23.280000  7069.000000   \n",
       "\n",
       "       totalPop_MOE        white   white_MOE        black   black_MOE  \\\n",
       "count    106.000000   106.000000  106.000000   106.000000  106.000000   \n",
       "mean     353.349057  1371.716981  201.377358  1429.867925  288.377358   \n",
       "std      140.297374  1293.399800  145.212649  1038.309754  148.843059   \n",
       "min       94.000000     1.000000    4.000000    35.000000   38.000000   \n",
       "25%      249.500000    88.500000   60.500000   633.250000  183.250000   \n",
       "50%      333.500000  1290.000000  212.500000  1334.500000  269.000000   \n",
       "75%      439.500000  2168.250000  299.750000  2029.000000  379.250000   \n",
       "max      832.000000  6128.000000  751.000000  4572.000000  760.000000   \n",
       "\n",
       "        povertyTot  povertyTot_MOE   povertyU18  povertyU18_MOE  \n",
       "count   106.000000      106.000000   106.000000      106.000000  \n",
       "mean    786.943396      270.500000   249.754717      140.084906  \n",
       "std     528.611313      156.111819   262.596152      107.482811  \n",
       "min     158.000000       65.000000     0.000000        3.000000  \n",
       "25%     408.500000      160.250000    66.500000       61.250000  \n",
       "50%     651.500000      241.500000   173.500000      120.500000  \n",
       "75%     955.750000      337.500000   341.750000      194.750000  \n",
       "max    2801.000000     1049.000000  1320.000000      595.000000  "
      ]
     },
     "execution_count": 3,
     "metadata": {},
     "output_type": "execute_result"
    }
   ],
   "source": [
    "# basic data exploration\n",
    "stl_lead.info()\n",
    "stl_lead.describe()"
   ]
  },
  {
   "cell_type": "code",
   "execution_count": 4,
   "metadata": {},
   "outputs": [
    {
     "name": "stdout",
     "output_type": "stream",
     "text": [
      "<class 'pandas.core.frame.DataFrame'>\n",
      "RangeIndex: 106 entries, 0 to 105\n",
      "Data columns (total 16 columns):\n",
      " #   Column          Non-Null Count  Dtype  \n",
      "---  ------          --------------  -----  \n",
      " 0   geoID           106 non-null    int64  \n",
      " 1   tractCE         106 non-null    int64  \n",
      " 2   nameLSAD        106 non-null    object \n",
      " 3   countTested     106 non-null    int64  \n",
      " 4   pctElevated     106 non-null    float64\n",
      " 5   totalPop        106 non-null    int64  \n",
      " 6   totalPop_MOE    106 non-null    int64  \n",
      " 7   white           106 non-null    int64  \n",
      " 8   white_MOE       106 non-null    int64  \n",
      " 9   black           106 non-null    int64  \n",
      " 10  black_MOE       106 non-null    int64  \n",
      " 11  povertyTot      106 non-null    int64  \n",
      " 12  povertyTot_MOE  106 non-null    int64  \n",
      " 13  povertyU18      106 non-null    int64  \n",
      " 14  povertyU18_MOE  106 non-null    int64  \n",
      " 15  prop_white      106 non-null    float64\n",
      "dtypes: float64(2), int64(13), object(1)\n",
      "memory usage: 13.4+ KB\n"
     ]
    }
   ],
   "source": [
    "#create a new column called prop_white (percent of each census tract id as white)\n",
    "stl_lead['prop_white'] = (stl_lead['white']/stl_lead['totalPop'])*100\n",
    "stl_lead.info()"
   ]
  },
  {
   "cell_type": "markdown",
   "metadata": {},
   "source": [
    "### Part 3 - Create a scatterplot\n",
    "- Import matplotlib (import matplotlib.pyplot as plt)\n",
    "- Create a scatterplot graph of the percentage of children in each census tract with elevated blood lead levels (pctElevated) versus the percent of each census tract identifying as white."
   ]
  },
  {
   "cell_type": "code",
   "execution_count": 5,
   "metadata": {},
   "outputs": [
    {
     "data": {
      "text/plain": [
       "Text(0.5, 1.0, 'Percent Elevated Blood Lead Levels vs. Percent White Population')"
      ]
     },
     "execution_count": 5,
     "metadata": {},
     "output_type": "execute_result"
    },
    {
     "data": {
      "image/png": "[encoded data removed]",
      "text/plain": [
       "<Figure size 640x480 with 1 Axes>"
      ]
     },
     "metadata": {},
     "output_type": "display_data"
    }
   ],
   "source": [
    "import matplotlib.pyplot as plt\n",
    "\n",
    "fig1 = plt.figure()\n",
    "plt.scatter(data = stl_lead, x = 'pctElevated', y = 'prop_white', color = 'darkred', marker = '.')\n",
    "plt.xlabel('Percent Elevated Blood Lead')\n",
    "plt.ylabel('Percent White')\n",
    "plt.title('Percent Elevated Blood Lead Levels vs. Percent White Population')\n"
   ]
  },
  {
   "cell_type": "markdown",
   "metadata": {},
   "source": [
    "### Part 3 - Create a Histogram\n",
    "- Create a histogram of only the pctElevated column in the data frame\n",
    "- Customize the fill, color, and size aesthetics - test some stuff! Feel free to make it awful."
   ]
  },
  {
   "cell_type": "code",
   "execution_count": 17,
   "metadata": {},
   "outputs": [
    {
     "data": {
      "text/plain": [
       "Text(0.5, 1.0, 'Count of Elevated Blood Lead Levels')"
      ]
     },
     "execution_count": 17,
     "metadata": {},
     "output_type": "execute_result"
    },
    {
     "data": {
      "image/png": "[encoded data removed]",
      "text/plain": [
       "<Figure size 640x480 with 1 Axes>"
      ]
     },
     "metadata": {},
     "output_type": "display_data"
    }
   ],
   "source": [
    "import seaborn as sns\n",
    "sns.histplot(data = stl_lead, x = stl_lead.pctElevated, color = \"green\", edgecolor = \"red\", linewidth = 2, linestyle = 'dashed', bins = 20)\n",
    "plt.xlabel('Percent Elevated Blood Lead Levels')\n",
    "plt.title('Count of Elevated Blood Lead Levels')"
   ]
  }
 ],
 "metadata": {
  "language_info": {
   "name": "python"
  },
  "orig_nbformat": 4
 },
 "nbformat": 4,
 "nbformat_minor": 2
}
